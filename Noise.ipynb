{
 "cells": [
  {
   "cell_type": "code",
   "execution_count": null,
   "metadata": {
    "scrolled": false
   },
   "outputs": [],
   "source": [
    "import cv2 as ocv\n",
    "import numpy as np\n",
    "import matplotlib.pyplot as plt\n",
    "\n",
    "img = ocv.imread('mia.jpg')\n",
    "noise = np.zeros(img.shape, np.uint8)\n",
    "\n",
    "mean = (10, 10, 10)\n",
    "sigma = (10, 10, 10)\n",
    "ocv.randn(noise, mean, sigma)\n",
    "\n",
    "img = ocv.add(img, noise)\n",
    "\n",
    "plt.figure(figsize=(12, 12))\n",
    "img_rgb = ocv.cvtColor(img, ocv.COLOR_BGR2RGB)\n",
    "plt.imshow(img_rgb)\n",
    "plt.show()\n"
   ]
  },
  {
   "cell_type": "code",
   "execution_count": null,
   "metadata": {
    "collapsed": true
   },
   "outputs": [],
   "source": []
  }
 ],
 "metadata": {
  "kernelspec": {
   "display_name": "Python 3",
   "language": "python",
   "name": "python3"
  },
  "language_info": {
   "codemirror_mode": {
    "name": "ipython",
    "version": 3
   },
   "file_extension": ".py",
   "mimetype": "text/x-python",
   "name": "python",
   "nbconvert_exporter": "python",
   "pygments_lexer": "ipython3",
   "version": "3.6.3"
  }
 },
 "nbformat": 4,
 "nbformat_minor": 2
}
